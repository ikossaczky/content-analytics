{
 "cells": [
  {
   "cell_type": "code",
   "execution_count": null,
   "metadata": {},
   "outputs": [],
   "source": [
    "import numpy as np\n",
    "from bs4 import BeautifulSoup\n",
    "import requests\n",
    "from datetime import datetime\n",
    "import re\n",
    "import pandas as pd"
   ]
  },
  {
   "cell_type": "code",
   "execution_count": null,
   "metadata": {},
   "outputs": [],
   "source": [
    "def get_sme_blog_links(first_page: int, last_page: int, subpage: str = ''):\n",
    "    sme_blog_links = []\n",
    "    for i in range(first_page, last_page):\n",
    "        source = requests.get(f'https://blog.sme.sk/{subpage}?page={i}').text\n",
    "        soup = BeautifulSoup(source, 'lxml')\n",
    "\n",
    "        # Find all elements with href and class=\"title\"\n",
    "        elements = soup.select('a.title[href]')\n",
    "        \n",
    "        # Extract the links from the elements\n",
    "        links = [element['href'] for element in elements]\n",
    "\n",
    "        # Append the links to the list\n",
    "        sme_blog_links.extend(links)\n",
    "\n",
    "    # Add the base URL to the links\n",
    "    sme_blog_links = [f'https://blog.sme.sk{link}' for link in sme_blog_links]\n",
    "\n",
    "    return sme_blog_links\n",
    "\n",
    "blogs = get_sme_blog_links(1, 300, 'najnovsie')"
   ]
  },
  {
   "cell_type": "code",
   "execution_count": null,
   "metadata": {},
   "outputs": [],
   "source": [
    "# Create a dictionary with Slovak month names as keys and English month names as values\n",
    "slovak_to_english_months = {\n",
    "    'jan': 'Jan', 'feb': 'Feb', 'mar': 'Mar', 'apr': 'Apr', 'máj': 'May', 'jún': 'Jun',\n",
    "    'júl': 'Jul', 'aug': 'Aug', 'sep': 'Sep', 'okt': 'Oct', 'nov': 'Nov', 'dec': 'Dec'\n",
    "}\n",
    "\n",
    "def parse_sme_blog(url: str):\n",
    "    source = requests.get(url).text\n",
    "    soup = BeautifulSoup(source, 'lxml')\n",
    "\n",
    "    # Parsing title\n",
    "    title = soup.find('h1').text\n",
    "\n",
    "    # Parsing perex\n",
    "    perex = soup.find('p', {'class': 'perex'}).text\n",
    "\n",
    "    # Parsing article body\n",
    "    article_body_element = soup.find('div', {'class': 'article-body-content'})\n",
    "    article_body = \"\\n\".join([element.text for element in article_body_element.find_all('p')]).strip()\n",
    "\n",
    "    # Parsing date\n",
    "    publication_datetime_str = soup.find('span', {\"class\": \"datetime datetime-long\"}).text\n",
    "    for sk, en in slovak_to_english_months.items():\n",
    "        publication_datetime_str = publication_datetime_str.replace(f\" {sk} \", f\" {en} \")\n",
    "    publication_datetime = datetime.strptime(publication_datetime_str, \"%d. %b %Y o %H:%M\")\n",
    "\n",
    "    # Parsing likes\n",
    "    likes_str = soup.find('span', {\"class\": \"likes\"}).text\n",
    "    likes = int(re.sub(\"\\D\", \"\", likes_str))\n",
    "\n",
    "    # Parsing reads\n",
    "    reads_str = soup.find('span', {\"class\": \"read-count\"}).text\n",
    "    reads = int(re.sub(\"\\D\", \"\", reads_str))\n",
    "\n",
    "    # Parsing comments\n",
    "    comments_str = soup.find('small', {\"class\": \"count\"}).text\n",
    "    comments = int(re.sub(\"\\D\", \"\", comments_str))\n",
    "\n",
    "    # Parsing author\n",
    "    author_element = soup.select('a.name[href]')[0]\n",
    "    author_link = author_element[\"href\"]\n",
    "    author_name = author_element.text\n",
    "\n",
    "    return {\n",
    "        \"url\": url,\n",
    "        \"title\": title,\n",
    "        \"perex\": perex,\n",
    "        \"article_body\": article_body,\n",
    "        \"publication_datetime\": publication_datetime,\n",
    "        \"likes\": likes,\n",
    "        \"reads\": reads,\n",
    "        \"comments\": comments,\n",
    "        \"author_link\": author_link,\n",
    "        \"author_name\": author_name\n",
    "    }\n",
    "\n",
    "\n",
    "df = pd.DataFrame([parse_sme_blog(b) for b in blogs[:100]])"
   ]
  },
  {
   "cell_type": "code",
   "execution_count": null,
   "metadata": {},
   "outputs": [],
   "source": [
    "df"
   ]
  },
  {
   "cell_type": "markdown",
   "metadata": {},
   "source": []
  }
 ],
 "metadata": {
  "kernelspec": {
   "display_name": "igor",
   "language": "python",
   "name": "python3"
  },
  "language_info": {
   "codemirror_mode": {
    "name": "ipython",
    "version": 3
   },
   "file_extension": ".py",
   "mimetype": "text/x-python",
   "name": "python",
   "nbconvert_exporter": "python",
   "pygments_lexer": "ipython3",
   "version": "3.10.13"
  }
 },
 "nbformat": 4,
 "nbformat_minor": 2
}
